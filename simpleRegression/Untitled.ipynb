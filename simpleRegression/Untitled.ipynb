{
 "cells": [
  {
   "cell_type": "code",
   "execution_count": 2,
   "metadata": {
    "collapsed": false
   },
   "outputs": [
    {
     "name": "stdout",
     "output_type": "stream",
     "text": [
      "[u'1', u'2011-01-01', u'1', u'0', u'1', u'0', u'0', u'6', u'0', u'1', u'0.24', u'0.2879', u'0.81', u'0', u'3', u'13', u'16']\n",
      "17379\n"
     ]
    }
   ],
   "source": [
    "path = \"./hour_noheader.csv\"\n",
    "raw_data = sc.textFile(path)\n",
    "num_data = raw_data.count()\n",
    "records = raw_data.map(lambda x : x.split(\",\"))\n",
    "first = records.first()\n",
    "print first\n",
    "print num_data"
   ]
  },
  {
   "cell_type": "code",
   "execution_count": 3,
   "metadata": {
    "collapsed": false
   },
   "outputs": [
    {
     "name": "stdout",
     "output_type": "stream",
     "text": [
      "Feature vector length for categorical features: 57\n",
      "Feature vector length for numerical features: 4\n",
      "Total feature vector length: 61\n"
     ]
    }
   ],
   "source": [
    "records.cache()\n",
    "\n",
    "# idx column distinct then give item a id make them to be a map, String -- index \n",
    "def get_mapping(rdd, idx):\n",
    "    return rdd.map(lambda fields: fields[idx]).distinct().zipWithIndex().collectAsMap()\n",
    "\n",
    "mappings = [get_mapping(records, i) for i in range(2, 10)]\n",
    "\n",
    "cat_len = sum(map(len, mappings))\n",
    "num_len = len(records.first()[11:15])\n",
    "total_len = num_len + cat_len\n",
    "print \"Feature vector length for categorical features: %d\" % cat_len\n",
    "print \"Feature vector length for numerical features: %d\" % num_len\n",
    "print \"Total feature vector length: %d\" % total_len"
   ]
  },
  {
   "cell_type": "code",
   "execution_count": 4,
   "metadata": {
    "collapsed": false
   },
   "outputs": [
    {
     "name": "stdout",
     "output_type": "stream",
     "text": [
      "Raw data: [u'1', u'0', u'1', u'0', u'0', u'6', u'0', u'1', u'0.24', u'0.2879', u'0.81', u'0', u'3', u'13', u'16']\n",
      "Label: 16.0\n",
      "Linear Model feature vector:\n",
      "[1.0,0.0,0.0,0.0,0.0,1.0,0.0,1.0,0.0,0.0,0.0,0.0,0.0,0.0,0.0,0.0,0.0,0.0,0.0,0.0,0.0,0.0,0.0,0.0,0.0,0.0,0.0,0.0,0.0,0.0,0.0,0.0,0.0,0.0,0.0,0.0,1.0,0.0,0.0,0.0,0.0,0.0,0.0,1.0,0.0,0.0,0.0,0.0,0.0,0.0,1.0,0.0,1.0,0.0,0.0,0.0,0.0,0.24,0.2879,0.81,0.0]\n",
      "Linear Model feature vector Length: 61\n"
     ]
    }
   ],
   "source": [
    "from pyspark.mllib.regression import LabeledPoint\n",
    "import numpy as np\n",
    "\n",
    "def extract_features(record):\n",
    "    cat_vec = np.zeros(cat_len)\n",
    "    i = 0\n",
    "    step = 0\n",
    "    for field in record[2:9]:\n",
    "        m = mappings[i]\n",
    "        idx = m[field]\n",
    "        cat_vec[idx + step] = 1\n",
    "        i = i+1\n",
    "        step = step + len(m)\n",
    "    num_vec = np.array([float(field) for field in record[10:14]])\n",
    "    return np.concatenate((cat_vec, num_vec))\n",
    "\n",
    "def extract_label(record):\n",
    "    return float(record[-1])\n",
    "\n",
    "data = records.map(lambda r: LabeledPoint(extract_label(r), extract_features(r)))\n",
    "first_point = data.first()\n",
    "print \"Raw data: \" + str(first[2:])\n",
    "print \"Label: \" + str(first_point.label)\n",
    "print \"Linear Model feature vector:\\n\" + str(first_point.features)\n",
    "print \"Linear Model feature vector Length: \" + str(len(first_point.features))"
   ]
  },
  {
   "cell_type": "code",
   "execution_count": 5,
   "metadata": {
    "collapsed": false
   },
   "outputs": [
    {
     "name": "stdout",
     "output_type": "stream",
     "text": [
      "Decision Tree feature vector: [1.0,0.0,1.0,0.0,0.0,6.0,0.0,1.0,0.24,0.2879,0.81,0.0]\n",
      "Decision Tree feature vector Length: 12\n"
     ]
    }
   ],
   "source": [
    "def extract_features_dt(record):\n",
    "    return np.array(map(float, record[2:14]))\n",
    "\n",
    "# Decision Tree use origin feature\n",
    "data_dt = records.map(lambda r: LabeledPoint(extract_label(r), extract_features_dt(r)))\n",
    "first_point_dt = data_dt.first()\n",
    "print \"Decision Tree feature vector: \" + str(first_point_dt.features)\n",
    "print \"Decision Tree feature vector Length: \" + str(len(first_point_dt.features))"
   ]
  },
  {
   "cell_type": "code",
   "execution_count": 7,
   "metadata": {
    "collapsed": false
   },
   "outputs": [
    {
     "name": "stdout",
     "output_type": "stream",
     "text": [
      "Linear Model predictions: [(16.0, 117.89250386724846), (40.0, 116.22496123192111), (32.0, 116.02369145779234), (13.0, 115.67088016754433), (1.0, 115.56315650834317)]\n"
     ]
    }
   ],
   "source": [
    "from pyspark.mllib.regression import LinearRegressionWithSGD\n",
    "from pyspark.mllib.tree import DecisionTree\n",
    "\n",
    "linear_model = LinearRegressionWithSGD.train(data, iterations=10, step=0.1, intercept=False)\n",
    "true_vs_predicted = data.map(lambda p: (p.label, linear_model.predict(p.features)))\n",
    "print \"Linear Model predictions: \" + str(true_vs_predicted.take(5))"
   ]
  },
  {
   "cell_type": "code",
   "execution_count": 9,
   "metadata": {
    "collapsed": false
   },
   "outputs": [
    {
     "name": "stdout",
     "output_type": "stream",
     "text": [
      "Decision Tree predictions: [(16.0, 54.913223140495866), (40.0, 54.913223140495866), (32.0, 53.171052631578945), (13.0, 14.284023668639053), (1.0, 14.284023668639053)]\n",
      "Decision Tree depth: 5\n",
      "Decision Tree number of nodes: 63\n"
     ]
    }
   ],
   "source": [
    "dt_model = DecisionTree.trainRegressor(data_dt, {})\n",
    "preds = dt_model.predict(data_dt.map(lambda p: p.features))\n",
    "actual = data.map(lambda p: p.label)\n",
    "true_vs_predicted_dt=actual.zip(preds)\n",
    "print \"Decision Tree predictions: \" + str(true_vs_predicted_dt.take(5))\n",
    "print \"Decision Tree depth: \" + str(dt_model.depth())\n",
    "print \"Decision Tree number of nodes: \" + str(dt_model.numNodes())"
   ]
  },
  {
   "cell_type": "code",
   "execution_count": 11,
   "metadata": {
    "collapsed": false
   },
   "outputs": [
    {
     "name": "stdout",
     "output_type": "stream",
     "text": [
      "Linear Model - Mean Squared Error: 30679.4539\n",
      "Linear Model - Mean Absolute Error: 130.6429\n",
      "Linear Model - Root Mean Squared Log Error: 1.4653\n",
      "Decision Tree - Mean Squared Error: 11560.7978\n",
      "Decision Tree - Mean Absolute Error: 71.0969\n",
      "Decision Tree - Root Mean Squared Log Error: 0.6259\n"
     ]
    }
   ],
   "source": [
    "# ping gu hui gui mo xing de xing neng\n",
    "def squared_error(actual, pred):\n",
    "    return (pred - actual)**2\n",
    "\n",
    "def abs_error(actual, pred):\n",
    "    return np.abs(pred - actual)\n",
    "\n",
    "def squared_log_error(pred, actual):\n",
    "    return (np.log(pred+1) - np.log(actual+1)) ** 2\n",
    "\n",
    "mse = true_vs_predicted.map(lambda (t, p): squared_error(t, p)).mean()\n",
    "mae = true_vs_predicted.map(lambda (t, p): abs_error(t, p)).mean()\n",
    "rmsle = np.sqrt(true_vs_predicted.map(lambda (t, p): squared_log_error(t, p)).mean())\n",
    "\n",
    "print \"Linear Model - Mean Squared Error: %2.4f\" % mse\n",
    "print \"Linear Model - Mean Absolute Error: %2.4f\" % mae\n",
    "print \"Linear Model - Root Mean Squared Log Error: %2.4f\" % rmsle\n",
    "\n",
    "mse_dt = true_vs_predicted_dt.map(lambda (t, p): squared_error(t, p)).mean()\n",
    "mae_dt = true_vs_predicted_dt.map(lambda (t, p): abs_error(t, p)).mean()\n",
    "rmsle_dt = np.sqrt(true_vs_predicted_dt.map(lambda (t, p):squared_log_error(t,p)).mean())\n",
    "\n",
    "print \"Decision Tree - Mean Squared Error: %2.4f\" % mse_dt\n",
    "print \"Decision Tree - Mean Absolute Error: %2.4f\" % mae_dt\n",
    "print \"Decision Tree - Root Mean Squared Log Error: %2.4f\" % rmsle_dt"
   ]
  },
  {
   "cell_type": "code",
   "execution_count": 14,
   "metadata": {
    "collapsed": false
   },
   "outputs": [
    {
     "name": "stdout",
     "output_type": "stream",
     "text": [
      "Populating the interactive namespace from numpy and matplotlib\n"
     ]
    },
    {
     "data": {
      "image/png": "[encoded data removed]",
      "text/plain": [
       "<matplotlib.figure.Figure at 0x7f1c251301d0>"
      ]
     },
     "metadata": {},
     "output_type": "display_data"
    }
   ],
   "source": [
    "%pylab inline\n",
    "targets = records.map(lambda r: float(r[-1])).collect()\n",
    "hist(targets, bins=40, color='lightblue', normed=True)\n",
    "fig = matplotlib.pyplot.gcf()\n",
    "fig.set_size_inches(16, 10)"
   ]
  },
  {
   "cell_type": "code",
   "execution_count": 15,
   "metadata": {
    "collapsed": false
   },
   "outputs": [
    {
     "data": {
      "image/png": "[encoded data removed]",
      "text/plain": [
       "<matplotlib.figure.Figure at 0x7f1c1c489990>"
      ]
     },
     "metadata": {},
     "output_type": "display_data"
    }
   ],
   "source": [
    "log_targets = records.map(lambda r: np.log(float(r[-1]))).collect()\n",
    "hist(log_targets, bins=40, color='lightblue', normed=True)\n",
    "fig = matplotlib.pyplot.gcf()\n",
    "fig.set_size_inches(16, 10)"
   ]
  },
  {
   "cell_type": "code",
   "execution_count": 16,
   "metadata": {
    "collapsed": false,
    "scrolled": false
   },
   "outputs": [
    {
     "data": {
      "image/png": "[encoded data removed]",
      "text/plain": [
       "<matplotlib.figure.Figure at 0x7f1c1f344990>"
      ]
     },
     "metadata": {},
     "output_type": "display_data"
    }
   ],
   "source": [
    "sqrt_targets = records.map(lambda r: np.sqrt(float(r[-1]))).collect()\n",
    "hist(sqrt_targets, bins=40, color='lightblue', normed=True)\n",
    "fig = matplotlib.pyplot.gcf()\n",
    "fig.set_size_inches(16, 10)"
   ]
  },
  {
   "cell_type": "code",
   "execution_count": 17,
   "metadata": {
    "collapsed": false
   },
   "outputs": [
    {
     "name": "stdout",
     "output_type": "stream",
     "text": [
      "Mean Squared Error: 50685.5559\n",
      "Mean Absolue Error: 155.2955\n",
      "Root Mean Squared Log Error: 0.6259\n",
      "Non log-transformed predictions:\n",
      "[(16.0, 117.89250386724846), (40.0, 116.22496123192111), (32.0, 116.02369145779234)]\n",
      "Log-transformed predictions:\n",
      "[(15.999999999999998, 28.080291845456223), (40.0, 26.959480191001774), (32.0, 26.654725629458031)]\n"
     ]
    }
   ],
   "source": [
    "data_log = data.map(lambda lp: LabeledPoint(np.log(lp.label), lp.features))\n",
    "model_log = LinearRegressionWithSGD.train(data_log, iterations=10, step=0.1)\n",
    "true_vs_predicted_log = data_log.map(lambda p: (np.exp(p.label), np.exp(model_log.predict(p.features))))\n",
    "mse_log = true_vs_predicted_log.map(lambda (t,p): squared_error(t, p)).mean()\n",
    "mae_log = true_vs_predicted_log.map(lambda (t,p): abs_error(t, p)).mean()\n",
    "rmsle_log = np.sqrt(true_vs_predicted_dt.map(lambda (t,p): squared_log_error(t, p)).mean())\n",
    "\n",
    "print \"Mean Squared Error: %2.4f\" % mse_log\n",
    "print \"Mean Absolue Error: %2.4f\" % mae_log\n",
    "print \"Root Mean Squared Log Error: %2.4f\" % rmsle_log\n",
    "print \"Non log-transformed predictions:\\n\" + str(true_vs_predicted.take(3))\n",
    "print \"Log-transformed predictions:\\n\" + str(true_vs_predicted_log.take(3))"
   ]
  },
  {
   "cell_type": "code",
   "execution_count": 19,
   "metadata": {
    "collapsed": false
   },
   "outputs": [
    {
     "name": "stdout",
     "output_type": "stream",
     "text": [
      "Mean Squared Error: 14781.5760\n",
      "Mean Absolue Error: 76.4131\n",
      "Root Mean Square Log Error: 0.6406\n",
      "Non log-transformed predictions:\n",
      "[(16.0, 54.913223140495866), (40.0, 54.913223140495866), (32.0, 53.171052631578945)]\n",
      "Log-transformed predictions:\n",
      "[(15.999999999999998, 37.530779787154522), (40.0, 37.530779787154522), (32.0, 7.2797070993907287)]\n"
     ]
    }
   ],
   "source": [
    "data_dt_log = data_dt.map(lambda lp: LabeledPoint(np.log(lp.label), lp.features))\n",
    "dt_model_log = DecisionTree.trainRegressor(data_dt_log,{})\n",
    "\n",
    "preds_log = dt_model_log.predict(data_dt_log.map(lambda p:p.features))\n",
    "actual_log = data_dt_log.map(lambda p: p.label)\n",
    "true_vs_predicted_dt_log = actual_log.zip(preds_log).map(lambda (t, p): (np.exp(t), np.exp(p)))\n",
    "\n",
    "mse_log_dt = true_vs_predicted_dt_log.map(lambda (t,p): squared_error(t, p)).mean()\n",
    "mae_log_dt = true_vs_predicted_dt_log.map(lambda (t,p): abs_error(t, p)).mean()\n",
    "rmsle_log_dt = np.sqrt(true_vs_predicted_dt_log.map(lambda (t,p):squared_log_error(t, p)).mean())\n",
    "print \"Mean Squared Error: %2.4f\" % mse_log_dt\n",
    "print \"Mean Absolue Error: %2.4f\" % mae_log_dt\n",
    "print \"Root Mean Square Log Error: %2.4f\" % rmsle_log_dt\n",
    "print \"Non log-transformed predictions:\\n\" + str(true_vs_predicted_dt.take(3))\n",
    "print \"Log-transformed predictions:\\n\" + str(true_vs_predicted_dt_log.take(3))"
   ]
  },
  {
   "cell_type": "code",
   "execution_count": 20,
   "metadata": {
    "collapsed": false
   },
   "outputs": [
    {
     "name": "stdout",
     "output_type": "stream",
     "text": [
      "Train data size: 13934\n",
      "Test data size: 3445\n",
      "Total data size: 17379\n",
      "Train + Test size : 17379\n"
     ]
    }
   ],
   "source": [
    "data_with_idx = data.zipWithIndex().map(lambda (k, v): (v, k))\n",
    "test = data_with_idx.sample(False, 0.2, 42)\n",
    "train = data_with_idx.subtractByKey(test)\n",
    "\n",
    "train_data =train.map(lambda (idx, p): p)\n",
    "test_data = test.map(lambda (idx, p): p)\n",
    "train_size = train_data.count()\n",
    "test_size = test_data.count()\n",
    "print \"Train data size: %d\" % train_size\n",
    "print \"Test data size: %d\" % test_size\n",
    "print \"Total data size: %d\" % num_data\n",
    "print \"Train + Test size : %d\" % (train_size + test_size)"
   ]
  },
  {
   "cell_type": "code",
   "execution_count": 21,
   "metadata": {
    "collapsed": true
   },
   "outputs": [],
   "source": [
    "# Decision Tree feature\n",
    "data_with_idx_dt = data_dt.zipWithIndex().map(lambda (k, v):(v, k))\n",
    "test_dt = data_with_idx_dt.sample(False, 0.2, 42)\n",
    "train_dt = data_with_idx_dt.subtractByKey(test_dt)\n",
    "train_data_dt = train_dt.map(lambda (idx, p): p)\n",
    "test_data_dt = test_dt.map(lambda (idx, p): p)"
   ]
  },
  {
   "cell_type": "code",
   "execution_count": 22,
   "metadata": {
    "collapsed": false
   },
   "outputs": [
    {
     "name": "stdout",
     "output_type": "stream",
     "text": [
      "[1, 5, 10, 20, 50, 100]\n",
      "[2.8779465130028199, 2.0390187660391499, 1.7761565324837874, 1.5828778102209105, 1.4382263191764473, 1.4050638054019446]\n"
     ]
    }
   ],
   "source": [
    "def evaluate(train, test, iterations, step, regParam, regType, intercept):\n",
    "    model = LinearRegressionWithSGD.train(train, iterations, step, regParam=regParam, regType=regType, intercept=intercept)\n",
    "    tp = test.map(lambda p: (p.label, model.predict(p.features)))\n",
    "    rmsle = np.sqrt(tp.map(lambda (t, p): squared_log_error(t, p)).mean())\n",
    "    return rmsle\n",
    "\n",
    "params = [1,5,10,20,50,100]\n",
    "metrics = [evaluate(train_data, test_data, param, 0.01, 0.0, 'l2', False) for param in params]\n",
    "print params\n",
    "print metrics"
   ]
  },
  {
   "cell_type": "code",
   "execution_count": 23,
   "metadata": {
    "collapsed": false
   },
   "outputs": [
    {
     "data": {
      "image/png": "[encoded data removed]",
      "text/plain": [
       "<matplotlib.figure.Figure at 0x7f1c1c2986d0>"
      ]
     },
     "metadata": {},
     "output_type": "display_data"
    }
   ],
   "source": [
    "plot(params, metrics)\n",
    "fig = matplotlib.pyplot.gcf()\n",
    "pyplot.xscale('log')"
   ]
  },
  {
   "cell_type": "code",
   "execution_count": 24,
   "metadata": {
    "collapsed": false
   },
   "outputs": [
    {
     "name": "stdout",
     "output_type": "stream",
     "text": [
      "[0.01, 0.025, 0.05, 0.1, 1.0]\n",
      "[1.7761565324837874, 1.4379348243997032, 1.4189071944747715, 1.5027293911925557, nan]\n"
     ]
    }
   ],
   "source": [
    "params = [0.01, 0.025, 0.05, 0.1, 1.0]\n",
    "metrics = [evaluate(train_data, test_data, 10, param, 0.0, 'l2', False) for param in params]\n",
    "print params\n",
    "print metrics"
   ]
  },
  {
   "cell_type": "code",
   "execution_count": 27,
   "metadata": {
    "collapsed": false,
    "scrolled": true
   },
   "outputs": [
    {
     "name": "stdout",
     "output_type": "stream",
     "text": [
      "[0.0, 0.01, 0.1, 1.0, 5, 10.0, 20.0]\n",
      "[1.5027293911925559, 1.5020646031965639, 1.4961903335175231, 1.4479313176192781, 1.4113329999970989, 1.5379824584440469, 1.8279564444985839]\n"
     ]
    },
    {
     "data": {
      "image/png": "[encoded data removed]",
      "text/plain": [
       "<matplotlib.figure.Figure at 0x7f1c25450950>"
      ]
     },
     "metadata": {},
     "output_type": "display_data"
    }
   ],
   "source": [
    "params = [0.0, 0.01, 0.1, 1.0, 5, 10.0, 20.0]\n",
    "metrics = [evaluate(train_data, test_data, 10, 0.1, param, 'l2', False) for param in params]\n",
    "print params\n",
    "print metrics\n",
    "plot(params, metrics)\n",
    "fig = matplotlib.pyplot.gcf()\n",
    "pyplot.xscale('log')"
   ]
  },
  {
   "cell_type": "code",
   "execution_count": 28,
   "metadata": {
    "collapsed": false
   },
   "outputs": [
    {
     "name": "stdout",
     "output_type": "stream",
     "text": [
      "[0.0, 0.01, 0.1, 1.0, 10.0, 100.0, 1000.0]\n",
      "[1.5027293911925559, 1.5026938950690176, 1.5023761634555699, 1.499412856617814, 1.4713669769550108, 1.7596682962964318, 4.7551250073268614]\n"
     ]
    },
    {
     "data": {
      "image/png": "[encoded data removed]",
      "text/plain": [
       "<matplotlib.figure.Figure at 0x7f1c25421050>"
      ]
     },
     "metadata": {},
     "output_type": "display_data"
    }
   ],
   "source": [
    "# L1\n",
    "params = [0.0, 0.01, 0.1, 1.0, 10.0, 100.0, 1000.0]\n",
    "metrics = [evaluate(train_data, test_data, 10, 0.1, param, 'l1', False) for param in params]\n",
    "print params\n",
    "print metrics\n",
    "plot(params, metrics)\n",
    "fig = matplotlib.pyplot.gcf()\n",
    "pyplot.xscale('log')"
   ]
  },
  {
   "cell_type": "code",
   "execution_count": 29,
   "metadata": {
    "collapsed": false
   },
   "outputs": [
    {
     "name": "stdout",
     "output_type": "stream",
     "text": [
      "L1 (1.0)   :4\n",
      "L1 (10.0)  :33\n",
      "L1 (100.0) :58\n"
     ]
    }
   ],
   "source": [
    "model_l1 = LinearRegressionWithSGD.train(train_data, 10, 0.1, regParam=1.0, regType='l1', intercept=False)\n",
    "model_l1_10=LinearRegressionWithSGD.train(train_data,10, 0.1, regParam=10.0, regType='l1', intercept=False)\n",
    "model_l1_100=LinearRegressionWithSGD.train(train_data,10, 0.1,regParam=100.0,regType='l1', intercept=False)\n",
    "\n",
    "print \"L1 (1.0)   :\" + str(sum(model_l1.weights.array == 0))\n",
    "print \"L1 (10.0)  :\" + str(sum(model_l1_10.weights.array == 0))\n",
    "print \"L1 (100.0) :\" + str(sum(model_l1_100.weights.array == 0))"
   ]
  },
  {
   "cell_type": "code",
   "execution_count": 30,
   "metadata": {
    "collapsed": false
   },
   "outputs": [
    {
     "name": "stdout",
     "output_type": "stream",
     "text": [
      "[False, True]\n",
      "[1.4479313176192781, 1.4798261513419801]\n"
     ]
    },
    {
     "data": {
      "image/png": "[encoded data removed]",
      "text/plain": [
       "<matplotlib.figure.Figure at 0x7f1c1c561410>"
      ]
     },
     "metadata": {},
     "output_type": "display_data"
    }
   ],
   "source": [
    "params = [False, True]\n",
    "metrics = [evaluate(train_data, test_data, 10, 0.1, 1.0, 'l2', param) for param in params]\n",
    "print params\n",
    "print metrics\n",
    "bar(params, metrics, color='lightblue')\n",
    "fig = matplotlib.pyplot.gcf()"
   ]
  },
  {
   "cell_type": "code",
   "execution_count": 31,
   "metadata": {
    "collapsed": false
   },
   "outputs": [
    {
     "name": "stdout",
     "output_type": "stream",
     "text": [
      "[1, 2, 3, 4, 5, 10, 20]\n",
      "[1.0280339660196287, 0.92686672078778276, 0.81807794023407532, 0.74060228537329209, 0.63583503599563096, 0.42812579248681132, 0.44855950019788171]\n"
     ]
    },
    {
     "data": {
      "image/png": "[encoded data removed]",
      "text/plain": [
       "<matplotlib.figure.Figure at 0x7f1c256fd490>"
      ]
     },
     "metadata": {},
     "output_type": "display_data"
    }
   ],
   "source": [
    "def evaluate_dt(train, test, maxDepth, maxBins):\n",
    "    model = DecisionTree.trainRegressor(train,{},impurity='variance',maxDepth=maxDepth, maxBins=maxBins)\n",
    "    preds = model.predict(test.map(lambda p: p.features))\n",
    "    actual = test.map(lambda p: p.label)\n",
    "    tp = actual.zip(preds)\n",
    "    rmsle = np.sqrt(tp.map(lambda (t, p): squared_log_error(t, p)).mean())\n",
    "    return rmsle\n",
    "\n",
    "params = [1, 2, 3, 4, 5, 10, 20]\n",
    "metrics = [evaluate_dt(train_data_dt, test_data_dt, param, 32) for param in params]\n",
    "print params\n",
    "print metrics\n",
    "plot(params, metrics)\n",
    "fig = matplotlib.pyplot.gcf()"
   ]
  },
  {
   "cell_type": "code",
   "execution_count": 33,
   "metadata": {
    "collapsed": false
   },
   "outputs": [
    {
     "name": "stdout",
     "output_type": "stream",
     "text": [
      "[2, 4, 8, 16, 32, 64, 100]\n",
      "[1.0280339660196287, 0.92686672078778276, 0.81807794023407532, 0.74060228537329209, 0.63583503599563096, 0.42812579248681132, 0.44855950019788171]\n"
     ]
    },
    {
     "data": {
      "image/png": "[encoded data removed]",
      "text/plain": [
       "<matplotlib.figure.Figure at 0x7f1c1c2d4fd0>"
      ]
     },
     "metadata": {},
     "output_type": "display_data"
    }
   ],
   "source": [
    "params = [2, 4, 8, 16, 32, 64, 100]\n",
    "matrics = [evaluate_dt(train_data_dt, test_data_dt, 5, param) for param in params]\n",
    "print params\n",
    "print metrics\n",
    "plot(params, metrics)\n",
    "fig = matplotlib.pyplot.gcf()"
   ]
  },
  {
   "cell_type": "code",
   "execution_count": null,
   "metadata": {
    "collapsed": true
   },
   "outputs": [],
   "source": []
  }
 ],
 "metadata": {
  "kernelspec": {
   "display_name": "Python 2",
   "language": "python",
   "name": "python2"
  },
  "language_info": {
   "codemirror_mode": {
    "name": "ipython",
    "version": 2
   },
   "file_extension": ".py",
   "mimetype": "text/x-python",
   "name": "python",
   "nbconvert_exporter": "python",
   "pygments_lexer": "ipython2",
   "version": "2.7.11"
  }
 },
 "nbformat": 4,
 "nbformat_minor": 0
}
